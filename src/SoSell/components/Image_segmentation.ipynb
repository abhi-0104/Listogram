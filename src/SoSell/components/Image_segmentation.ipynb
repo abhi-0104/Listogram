{
 "cells": [
  {
   "cell_type": "code",
   "execution_count": 156,
   "metadata": {},
   "outputs": [],
   "source": [
    "import pytesseract\n",
    "import cv2\n",
    "import numpy as np\n",
    "import requests"
   ]
  },
  {
   "cell_type": "code",
   "execution_count": 157,
   "metadata": {},
   "outputs": [],
   "source": [
    "def load_image_from_url(image_url):\n",
    "    \"\"\"Open and display an image from a URL using OpenCV.\"\"\"\n",
    "    try:\n",
    "        # Fetch the image from the URL\n",
    "        response = requests.get(image_url, stream=True)\n",
    "        response.raise_for_status()  # Raise an error for failed requests\n",
    "\n",
    "        # Convert the raw bytes into a NumPy array\n",
    "        image_array = np.asarray(bytearray(response.content), dtype=np.uint8)\n",
    "\n",
    "        # Decode the image using OpenCV\n",
    "        image = cv2.imdecode(image_array, cv2.IMREAD_COLOR)\n",
    "\n",
    "        if image is None:\n",
    "            raise ValueError(\"Failed to decode the image\")\n",
    "        return image  # Return the OpenCV image object if further processing is needed\n",
    "\n",
    "    except Exception as e:\n",
    "        print(f\"Error opening image: {e}\")\n",
    "        return None"
   ]
  },
  {
   "cell_type": "code",
   "execution_count": 158,
   "metadata": {},
   "outputs": [],
   "source": [
    "def image_segmentation(image):\n",
    "    # Convert to grayscale\n",
    "    gray = cv2.cvtColor(image, cv2.COLOR_BGR2GRAY)\n",
    "    \n",
    "    \n",
    "    # Apply Gaussian Blur\n",
    "    blur = cv2.GaussianBlur(gray, (11, 11), 0)\n",
    "    \n",
    "    \n",
    "    # Thresholding with Otsu's binarization\n",
    "    _, thresh = cv2.threshold(blur, 0, 255, cv2.THRESH_BINARY_INV + cv2.THRESH_OTSU) \n",
    "    \n",
    "    \n",
    "    # Create a rectangular kernel for dilation\n",
    "    kernel = cv2.getStructuringElement(cv2.MORPH_RECT, (9, 9))\n",
    "    \n",
    "    # Dilate the image to connect text regions\n",
    "    dilate = cv2.dilate(thresh, kernel, iterations=5)\n",
    "    \n",
    "    \n",
    "    # Find contours\n",
    "    cnts, _ = cv2.findContours(dilate, cv2.RETR_EXTERNAL, cv2.CHAIN_APPROX_SIMPLE)\n",
    "    cnts = sorted(cnts, key=lambda x: cv2.boundingRect(x)[0])\n",
    "\n",
    "    results = []\n",
    "\n",
    "    heights = [cv2.boundingRect(c)[3] for c in cnts]\n",
    "    widths = [cv2.boundingRect(c)[2] for c in cnts]\n",
    "\n",
    "    # Calculate median height and width\n",
    "    median_h = np.median(heights)\n",
    "    median_w = np.median(widths)\n",
    "\n",
    "    # Set filtering limits as some factor of the median size\n",
    "    min_h = median_h * 0.5  # Allow half the median size for minimum height\n",
    "    min_w = median_w * 0.5  # Allow half the median size for minimum width\n",
    "\n",
    "    \n",
    "    # Iterate through contours and extract text from ROIs\n",
    "    for c in cnts:\n",
    "        x, y, w, h = cv2.boundingRect(c)\n",
    "        \n",
    "        if h > 10 and w > 50:\n",
    "            roi = image[y:y+h, x:x+w]\n",
    "            \n",
    "            ocr_result = pytesseract.image_to_string(roi)\n",
    "            \n",
    "            results.extend(ocr_result.split(\"\\n\"))\n",
    "            \n",
    "            cv2.rectangle(image, (x, y), (x+w, y+h), (36, 255, 12), 2)\n",
    "    \n",
    "    # Return the modified image and OCR results\n",
    "    return image, results\n"
   ]
  },
  {
   "cell_type": "code",
   "execution_count": 159,
   "metadata": {},
   "outputs": [],
   "source": [
    "url = \"https://media.licdn.com/dms/image/v2/D5622AQFDypGK7vZzpw/feedshare-shrink_800/feedshare-shrink_800/0/1729678450155?e=1732752000&v=beta&t=0TUW9YEO_sKRUew98QHR04eswM132heVgEE3E3q1moI\"\n",
    "image = load_image_from_url(url)"
   ]
  },
  {
   "cell_type": "code",
   "execution_count": 160,
   "metadata": {},
   "outputs": [],
   "source": [
    "processed_image, text_results = image_segmentation(image)\n",
    "\n"
   ]
  },
  {
   "cell_type": "code",
   "execution_count": 161,
   "metadata": {},
   "outputs": [],
   "source": [
    "cv2.imshow(\"Processed Image\", processed_image)\n",
    "cv2.waitKey(0)\n",
    "cv2.destroyAllWindows()"
   ]
  },
  {
   "cell_type": "code",
   "execution_count": 162,
   "metadata": {},
   "outputs": [
    {
     "name": "stdout",
     "output_type": "stream",
     "text": [
      "¢ 0-2 Years Experience\n",
      "¢ Mumbai, Maharashtra\n",
      "¢ Fulltime\n",
      "\n",
      "Apply Now\n",
      "jobs.abekus.ai\n",
      "\n",
      "\n",
      "New Job Alert\n",
      "\n",
      "° 8LPA\n",
      "=2 Years Experience.\n",
      "¢ Mumbai, Maharashtra suet\n",
      "\n",
      "¢ Fulltime\n",
      "4\n",
      "\n",
      "Company\n",
      "\n",
      "SMEST Capital Pvt. Ltd.\n",
      "\n",
      "\n",
      "\n"
     ]
    }
   ],
   "source": [
    "for line in text_results:\n",
    "    print(line)"
   ]
  },
  {
   "cell_type": "code",
   "execution_count": null,
   "metadata": {},
   "outputs": [],
   "source": []
  }
 ],
 "metadata": {
  "kernelspec": {
   "display_name": "Hackathon",
   "language": "python",
   "name": "python3"
  },
  "language_info": {
   "codemirror_mode": {
    "name": "ipython",
    "version": 3
   },
   "file_extension": ".py",
   "mimetype": "text/x-python",
   "name": "python",
   "nbconvert_exporter": "python",
   "pygments_lexer": "ipython3",
   "version": "3.10.15"
  }
 },
 "nbformat": 4,
 "nbformat_minor": 2
}
