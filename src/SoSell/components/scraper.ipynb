{
 "cells": [
  {
   "cell_type": "code",
   "execution_count": 26,
   "metadata": {},
   "outputs": [],
   "source": [
    "from selenium import webdriver\n",
    "from selenium.webdriver.common.by import By\n",
    "from selenium.webdriver.chrome.service import Service\n",
    "from selenium.webdriver.chrome.options import Options\n",
    "from webdriver_manager.chrome import ChromeDriverManager\n",
    "from selenium.webdriver.common.keys import Keys\n",
    "from selenium.webdriver.support import expected_conditions as EC\n",
    "from selenium.webdriver.support.wait import WebDriverWait\n",
    "from SoSell import logger\n",
    "import time"
   ]
  },
  {
   "cell_type": "code",
   "execution_count": 27,
   "metadata": {},
   "outputs": [],
   "source": [
    "import os"
   ]
  },
  {
   "cell_type": "code",
   "execution_count": 28,
   "metadata": {},
   "outputs": [],
   "source": [
    "def initialize_driver():\n",
    "    chrome_options = webdriver.ChromeOptions()\n",
    "    \n",
    "    # Add any desired Chrome options here\n",
    "    chrome_options.add_argument(\"--headless\")  # Optional: run in headless mode\n",
    "\n",
    "    # Provide the path to the ChromeDriver executable\n",
    "    service = Service('/Users/Stark0104/Desktop/Coding/chromedriver-mac-arm64/chromedriver')\n",
    "\n",
    "    # Correctly initialize the driver\n",
    "    driver = webdriver.Chrome(service=service, options=chrome_options)\n",
    "    return driver"
   ]
  },
  {
   "cell_type": "code",
   "execution_count": 50,
   "metadata": {},
   "outputs": [],
   "source": [
    "def scrape_instagram_post(url):\n",
    "    \"\"\"Scrape Instagram post data from the given URL using Selenium.\"\"\"\n",
    "    driver = initialize_driver()\n",
    "    try:\n",
    "        driver.get(url)\n",
    "        time.sleep(3)  # Wait for the page to load\n",
    "\n",
    "        # Extract the necessary data\n",
    "        post_data = {}\n",
    "\n",
    "        # Get the image element (using a more specific selector)\n",
    "        image_element = WebDriverWait(driver, 10).until(\n",
    "            EC.presence_of_element_located((By.XPATH, '//article//img'))\n",
    "        )\n",
    "        \n",
    "        # Attempt to get the image URL\n",
    "        post_data['image_url'] = driver.execute_script(\"return arguments[0].src;\", image_element)\n",
    "\n",
    "        # Get the caption from the meta tag\n",
    "        post_data['caption'] = driver.find_element(By.XPATH, '//meta[@property=\"og:description\"]').get_attribute('content')\n",
    "        \n",
    "        logger.info(\"Scraped data successfully.\")\n",
    "        logger.info(f\"Image URL: {post_data['image_url']}\")\n",
    "        return post_data\n",
    "    except Exception as e:\n",
    "        logger.error(f\"Error scraping post: {e}\")\n",
    "        return None\n",
    "    finally:\n",
    "        driver.quit()\n"
   ]
  },
  {
   "cell_type": "code",
   "execution_count": 51,
   "metadata": {},
   "outputs": [
    {
     "name": "stdout",
     "output_type": "stream",
     "text": [
      "[2024-10-21 02:09:37,752: INFO: 1471782556: Scraped data successfully.]\n",
      "[2024-10-21 02:09:37,754: INFO: 1471782556: Image URL: https://instagram.fbho3-2.fna.fbcdn.net/v/t51.29350-15/454567753_1172367000663796_8093438128101864593_n.jpg?stp=dst-jpg_e35_p1080x1080&_nc_ht=instagram.fbho3-2.fna.fbcdn.net&_nc_cat=104&_nc_ohc=OxsF1HZg8WMQ7kNvgEiFWqH&_nc_gid=000baccae15b4b4787d224829bc97646&edm=ANTKIIoBAAAA&ccb=7-5&oh=00_AYADkJifNaipFfiWE0SJV67hAmOs0_wLS95_xWHTAuG11Q&oe=671B51FE&_nc_sid=d885a2]\n",
      "{'image_url': 'https://instagram.fbho3-2.fna.fbcdn.net/v/t51.29350-15/454567753_1172367000663796_8093438128101864593_n.jpg?stp=dst-jpg_e35_p1080x1080&_nc_ht=instagram.fbho3-2.fna.fbcdn.net&_nc_cat=104&_nc_ohc=OxsF1HZg8WMQ7kNvgEiFWqH&_nc_gid=000baccae15b4b4787d224829bc97646&edm=ANTKIIoBAAAA&ccb=7-5&oh=00_AYADkJifNaipFfiWE0SJV67hAmOs0_wLS95_xWHTAuG11Q&oe=671B51FE&_nc_sid=d885a2', 'caption': '3,311 likes, 0 comments - pb08_sale_purchase__ on August 11, 2024: \"🚘Alto Lxi (2007)🚘\\nOwner 2nd🚘\\n(2028 Passing)\\nwith insurance pollution✅\\nPower Steering✅\\nalloy tryes\\U0001f6de\\n2 Keys🔑\\nRs..1,30,000-/\\n\\n#alto #marutisuzuki #maruti800🚗 #trending #viral #reelsinstagram #ree #reelitfeelit #reelsindia #reelkarofeelkaro #reelkarofeelkaro #buy #buying #sell #seller #purchase #deal #dealers\". '}\n"
     ]
    }
   ],
   "source": [
    "if __name__ == \"__main__\":\n",
    "    url = \"https://www.instagram.com/p/C-hjB_lS7Ta/\"\n",
    "    data = scrape_instagram_post(url)\n",
    "    print(data)"
   ]
  },
  {
   "cell_type": "code",
   "execution_count": 52,
   "metadata": {},
   "outputs": [
    {
     "data": {
      "text/plain": [
       "{'image_url': 'https://instagram.fbho3-2.fna.fbcdn.net/v/t51.29350-15/454567753_1172367000663796_8093438128101864593_n.jpg?stp=dst-jpg_e35_p1080x1080&_nc_ht=instagram.fbho3-2.fna.fbcdn.net&_nc_cat=104&_nc_ohc=OxsF1HZg8WMQ7kNvgEiFWqH&_nc_gid=000baccae15b4b4787d224829bc97646&edm=ANTKIIoBAAAA&ccb=7-5&oh=00_AYADkJifNaipFfiWE0SJV67hAmOs0_wLS95_xWHTAuG11Q&oe=671B51FE&_nc_sid=d885a2',\n",
       " 'caption': '3,311 likes, 0 comments - pb08_sale_purchase__ on August 11, 2024: \"🚘Alto Lxi (2007)🚘\\nOwner 2nd🚘\\n(2028 Passing)\\nwith insurance pollution✅\\nPower Steering✅\\nalloy tryes\\U0001f6de\\n2 Keys🔑\\nRs..1,30,000-/\\n\\n#alto #marutisuzuki #maruti800🚗 #trending #viral #reelsinstagram #ree #reelitfeelit #reelsindia #reelkarofeelkaro #reelkarofeelkaro #buy #buying #sell #seller #purchase #deal #dealers\". '}"
      ]
     },
     "execution_count": 52,
     "metadata": {},
     "output_type": "execute_result"
    }
   ],
   "source": [
    "data"
   ]
  },
  {
   "cell_type": "code",
   "execution_count": null,
   "metadata": {},
   "outputs": [],
   "source": []
  },
  {
   "cell_type": "code",
   "execution_count": null,
   "metadata": {},
   "outputs": [],
   "source": []
  },
  {
   "cell_type": "code",
   "execution_count": null,
   "metadata": {},
   "outputs": [],
   "source": []
  }
 ],
 "metadata": {
  "kernelspec": {
   "display_name": "Hackathon",
   "language": "python",
   "name": "python3"
  },
  "language_info": {
   "codemirror_mode": {
    "name": "ipython",
    "version": 3
   },
   "file_extension": ".py",
   "mimetype": "text/x-python",
   "name": "python",
   "nbconvert_exporter": "python",
   "pygments_lexer": "ipython3",
   "version": "3.10.15"
  }
 },
 "nbformat": 4,
 "nbformat_minor": 2
}
