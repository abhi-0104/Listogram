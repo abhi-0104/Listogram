{
 "cells": [
  {
   "cell_type": "code",
   "execution_count": 177,
   "metadata": {},
   "outputs": [],
   "source": [
    "from selenium import webdriver\n",
    "from selenium.webdriver.common.by import By\n",
    "from selenium.webdriver.chrome.service import Service\n",
    "from selenium.webdriver.chrome.options import Options\n",
    "from webdriver_manager.chrome import ChromeDriverManager\n",
    "from selenium.webdriver.common.keys import Keys\n",
    "from selenium.webdriver.support import expected_conditions as EC\n",
    "from selenium.webdriver.support.wait import WebDriverWait\n",
    "from SoSell import logger\n",
    "import time\n",
    "import os\n"
   ]
  },
  {
   "cell_type": "code",
   "execution_count": 178,
   "metadata": {},
   "outputs": [],
   "source": [
    "def initialize_driver():\n",
    "    chrome_options = webdriver.ChromeOptions()\n",
    "    chrome_options.add_argument(\"--headless\")\n",
    "    service = Service('/Users/Stark0104/Desktop/Coding/chromedriver-mac-arm64/chromedriver')\n",
    "    driver = webdriver.Chrome(service=service, options=chrome_options)\n",
    "    return driver"
   ]
  },
  {
   "cell_type": "code",
   "execution_count": 179,
   "metadata": {},
   "outputs": [],
   "source": [
    "def login_to_instagram(driver, url):\n",
    "    driver.get(url)\n",
    "    try:\n",
    "        # Wait for the password field to appear\n",
    "        WebDriverWait(driver, 10).until(\n",
    "            EC.presence_of_element_located((By.NAME, 'password'))\n",
    "        )\n",
    "        logger.info(\"Password field detected.\")\n",
    "\n",
    "        # Wait for the 'Close' button (if it exists, such as for a pop-up)  # Optional: Allow time for any animation or DOM update\n",
    "\n",
    "        # Use JavaScript to click for reliability\n",
    "        \n",
    "\n",
    "    except Exception as e:\n",
    "        logger.info(f\"Error during login: {e}\")\n"
   ]
  },
  {
   "cell_type": "code",
   "execution_count": 180,
   "metadata": {},
   "outputs": [],
   "source": [
    "def scrape_instagram_post(driver, url):\n",
    "    try:\n",
    "        driver.get(url)\n",
    "\n",
    "        # Close initial pop-up (if any)\n",
    "        try:\n",
    "            close_button = WebDriverWait(driver, 10).until(\n",
    "                EC.element_to_be_clickable((By.XPATH, '//div[@role=\"button\" and @tabindex=\"0\"]'))\n",
    "            )\n",
    "            logger.info(\"Close button detected, attempting to click.\")\n",
    "            \n",
    "            # Ensure the element is within the viewport before clicking\n",
    "            # driver.execute_script(\"arguments[0].scrollIntoView(true);\", close_button)\n",
    "            driver.execute_script(\"arguments[0].click();\", close_button)\n",
    "            logger.info(\"Close button clicked.\")\n",
    "        except Exception as e:\n",
    "            logger.warning(f\"No close button found or clickable: {e}\")\n",
    "\n",
    "        # Dismiss secondary pop-up, if any\n",
    "        try:\n",
    "            close_secondary = WebDriverWait(driver, 10).until(\n",
    "                EC.element_to_be_clickable((By.XPATH, '//span[@aria-label=\"Close\"]'))\n",
    "            )\n",
    "            driver.execute_script(\"arguments[0].scrollIntoView(true);\", close_secondary)\n",
    "            driver.execute_script(\"arguments[0].click();\", close_secondary)\n",
    "            logger.info(\"Secondary close button clicked.\")\n",
    "        except Exception as e:\n",
    "            logger.warning(f\"No secondary close button found: {e}\")\n",
    "\n",
    "        logger.info(\"Waiting for post content to load...\")\n",
    "        WebDriverWait(driver, 10).until(\n",
    "            EC.presence_of_element_located((By.XPATH, \"//div[@dir='auto' and contains(text(), 'Follow')]\"))\n",
    "        )\n",
    "        logger.info(\"Post loaded, ready to scrape.\")\n",
    "\n",
    "        post_data = {}\n",
    "\n",
    "        # Look for images in the post\n",
    "        logger.info(\"Looking for image elements...\")\n",
    "        try:\n",
    "            image_containers = WebDriverWait(driver, 10).until(\n",
    "                EC.presence_of_all_elements_located((By.XPATH, \"//div[contains(@class, '_aagv')]//img[@crossorigin='anonymous']\"))\n",
    "            )\n",
    "            post_data['image_urls'] = [img.get_attribute('srcset') for img in image_containers]\n",
    "            logger.info(f\"Image elements found: {len(post_data['image_urls'])}\")\n",
    "        except Exception as e:\n",
    "            logger.error(f\"Error finding image elements: {e}\")\n",
    "            post_data['image_urls'] = []\n",
    "\n",
    "        # Look for the caption\n",
    "        logger.info(\"Looking for caption...\")\n",
    "        caption_elements = driver.find_elements(By.XPATH, '//div[@class=\"_a9zr\"]')\n",
    "        if caption_elements:\n",
    "            post_data['caption'] = caption_elements[0].text\n",
    "            logger.info(\"Caption found.\")\n",
    "        else:\n",
    "            logger.warning(\"Caption element not found.\")\n",
    "            post_data['caption'] = \"No caption found.\"\n",
    "\n",
    "        logger.info(\"Scraped data successfully.\")\n",
    "        return post_data\n",
    "\n",
    "    except Exception as e:\n",
    "        logger.error(f\"Error scraping post: {e}\")\n",
    "        logger.error(f\"Post URL: {url}\")\n",
    "        return None"
   ]
  },
  {
   "cell_type": "code",
   "execution_count": 181,
   "metadata": {},
   "outputs": [
    {
     "name": "stdout",
     "output_type": "stream",
     "text": [
      "[2024-10-22 17:26:14,511: INFO: 246606317: Password field detected.]\n",
      "[2024-10-22 17:26:15,177: INFO: 2694907801: Close button detected, attempting to click.]\n",
      "[2024-10-22 17:26:15,183: INFO: 2694907801: Close button clicked.]\n",
      "[2024-10-22 17:26:16,235: INFO: 2694907801: Secondary close button clicked.]\n",
      "[2024-10-22 17:26:16,236: INFO: 2694907801: Waiting for post content to load...]\n",
      "[2024-10-22 17:26:16,245: INFO: 2694907801: Post loaded, ready to scrape.]\n",
      "[2024-10-22 17:26:16,246: INFO: 2694907801: Looking for image elements...]\n",
      "[2024-10-22 17:26:16,271: INFO: 2694907801: Image elements found: 2]\n",
      "[2024-10-22 17:26:16,271: INFO: 2694907801: Looking for caption...]\n",
      "[2024-10-22 17:26:16,298: INFO: 2694907801: Caption found.]\n",
      "[2024-10-22 17:26:16,299: INFO: 2694907801: Scraped data successfully.]\n",
      "{'image_urls': ['https://instagram.fbho3-2.fna.fbcdn.net/v/t51.29350-15/344255752_183809894595011_245967690214186054_n.webp?stp=dst-jpg_e35_s640x640_sh0.08&efg=eyJ2ZW5jb2RlX3RhZyI6ImltYWdlX3VybGdlbi4xMDI0eDEwMjQuc2RyLmYyOTM1MC5kZWZhdWx0X2ltYWdlIn0&_nc_ht=instagram.fbho3-2.fna.fbcdn.net&_nc_cat=111&_nc_ohc=F_4dzH_cRj8Q7kNvgE4lje_&_nc_gid=e1977c1468494a27a43ad8a0c4f298b3&edm=ANTKIIoBAAAA&ccb=7-5&oh=00_AYDopOj0hgKTn-j1vN3RLmedBx-qyq1Tba0zI82UXtye9A&oe=671D6FEC&_nc_sid=d885a2 640w,https://instagram.fbho3-2.fna.fbcdn.net/v/t51.29350-15/344255752_183809894595011_245967690214186054_n.webp?stp=dst-jpg_e35_s750x750_sh0.08&efg=eyJ2ZW5jb2RlX3RhZyI6ImltYWdlX3VybGdlbi4xMDI0eDEwMjQuc2RyLmYyOTM1MC5kZWZhdWx0X2ltYWdlIn0&_nc_ht=instagram.fbho3-2.fna.fbcdn.net&_nc_cat=111&_nc_ohc=F_4dzH_cRj8Q7kNvgE4lje_&_nc_gid=e1977c1468494a27a43ad8a0c4f298b3&edm=ANTKIIoBAAAA&ccb=7-5&oh=00_AYAuFdcDqh0m_DDO2tdZkWnmnJcbF1sw-CL9LEHkOdhDrA&oe=671D6FEC&_nc_sid=d885a2 750w,https://instagram.fbho3-2.fna.fbcdn.net/v/t51.29350-15/344255752_183809894595011_245967690214186054_n.webp?stp=dst-jpg_e35&efg=eyJ2ZW5jb2RlX3RhZyI6ImltYWdlX3VybGdlbi4xMDI0eDEwMjQuc2RyLmYyOTM1MC5kZWZhdWx0X2ltYWdlIn0&_nc_ht=instagram.fbho3-2.fna.fbcdn.net&_nc_cat=111&_nc_ohc=F_4dzH_cRj8Q7kNvgE4lje_&_nc_gid=e1977c1468494a27a43ad8a0c4f298b3&edm=ANTKIIoBAAAA&ccb=7-5&oh=00_AYCwCDo6sxm90vgqvK_7kxhlNaUrLi5e0eh2phU1K64BUQ&oe=671D6FEC&_nc_sid=d885a2 1080w', 'https://instagram.fbho3-1.fna.fbcdn.net/v/t51.29350-15/344463884_1488058825062098_3160409030860216808_n.webp?stp=dst-jpg_e35_s640x640_sh0.08&efg=eyJ2ZW5jb2RlX3RhZyI6ImltYWdlX3VybGdlbi4xMDI0eDEwMjQuc2RyLmYyOTM1MC5kZWZhdWx0X2ltYWdlIn0&_nc_ht=instagram.fbho3-1.fna.fbcdn.net&_nc_cat=102&_nc_ohc=Fmyk5dlNbY0Q7kNvgFuo_hu&_nc_gid=e1977c1468494a27a43ad8a0c4f298b3&edm=ANTKIIoBAAAA&ccb=7-5&oh=00_AYBwCzZwqYyrEHWiU26-OVpb1G19xPY9I3ds3B_r7xIbOA&oe=671D524D&_nc_sid=d885a2 640w,https://instagram.fbho3-1.fna.fbcdn.net/v/t51.29350-15/344463884_1488058825062098_3160409030860216808_n.webp?stp=dst-jpg_e35_s750x750_sh0.08&efg=eyJ2ZW5jb2RlX3RhZyI6ImltYWdlX3VybGdlbi4xMDI0eDEwMjQuc2RyLmYyOTM1MC5kZWZhdWx0X2ltYWdlIn0&_nc_ht=instagram.fbho3-1.fna.fbcdn.net&_nc_cat=102&_nc_ohc=Fmyk5dlNbY0Q7kNvgFuo_hu&_nc_gid=e1977c1468494a27a43ad8a0c4f298b3&edm=ANTKIIoBAAAA&ccb=7-5&oh=00_AYAwcRQHd-6lLIoaNDCPywgNbJVP--aMvs4Nk5dLmkW-xg&oe=671D524D&_nc_sid=d885a2 750w,https://instagram.fbho3-1.fna.fbcdn.net/v/t51.29350-15/344463884_1488058825062098_3160409030860216808_n.webp?stp=dst-jpg_e35&efg=eyJ2ZW5jb2RlX3RhZyI6ImltYWdlX3VybGdlbi4xMDI0eDEwMjQuc2RyLmYyOTM1MC5kZWZhdWx0X2ltYWdlIn0&_nc_ht=instagram.fbho3-1.fna.fbcdn.net&_nc_cat=102&_nc_ohc=Fmyk5dlNbY0Q7kNvgFuo_hu&_nc_gid=e1977c1468494a27a43ad8a0c4f298b3&edm=ANTKIIoBAAAA&ccb=7-5&oh=00_AYCNIYsve28YBsUaEivMrkSTN84tuRg1dm2slmclPq1nSg&oe=671D524D&_nc_sid=d885a2 1080w'], 'caption': 'tune_in_abhi\\nThe calmness of this cliff is a welcome escape from the chaos of everyday life 🌄🌄\\n76 w'}\n"
     ]
    }
   ],
   "source": [
    "if __name__ == \"__main__\":\n",
    "    post_url = \"https://www.instagram.com/p/CrwY_Iuh6mM/\"\n",
    "    \n",
    "    driver = initialize_driver()\n",
    "    \n",
    "    \n",
    "    login_to_instagram(driver, post_url)\n",
    "     \n",
    "        \n",
    "    data = scrape_instagram_post(driver, post_url)\n",
    "    print(data)\n",
    "    \n",
    "    driver.quit()\n"
   ]
  },
  {
   "cell_type": "code",
   "execution_count": 182,
   "metadata": {},
   "outputs": [
    {
     "data": {
      "text/plain": [
       "{'image_urls': ['https://instagram.fbho3-2.fna.fbcdn.net/v/t51.29350-15/344255752_183809894595011_245967690214186054_n.webp?stp=dst-jpg_e35_s640x640_sh0.08&efg=eyJ2ZW5jb2RlX3RhZyI6ImltYWdlX3VybGdlbi4xMDI0eDEwMjQuc2RyLmYyOTM1MC5kZWZhdWx0X2ltYWdlIn0&_nc_ht=instagram.fbho3-2.fna.fbcdn.net&_nc_cat=111&_nc_ohc=F_4dzH_cRj8Q7kNvgE4lje_&_nc_gid=e1977c1468494a27a43ad8a0c4f298b3&edm=ANTKIIoBAAAA&ccb=7-5&oh=00_AYDopOj0hgKTn-j1vN3RLmedBx-qyq1Tba0zI82UXtye9A&oe=671D6FEC&_nc_sid=d885a2 640w,https://instagram.fbho3-2.fna.fbcdn.net/v/t51.29350-15/344255752_183809894595011_245967690214186054_n.webp?stp=dst-jpg_e35_s750x750_sh0.08&efg=eyJ2ZW5jb2RlX3RhZyI6ImltYWdlX3VybGdlbi4xMDI0eDEwMjQuc2RyLmYyOTM1MC5kZWZhdWx0X2ltYWdlIn0&_nc_ht=instagram.fbho3-2.fna.fbcdn.net&_nc_cat=111&_nc_ohc=F_4dzH_cRj8Q7kNvgE4lje_&_nc_gid=e1977c1468494a27a43ad8a0c4f298b3&edm=ANTKIIoBAAAA&ccb=7-5&oh=00_AYAuFdcDqh0m_DDO2tdZkWnmnJcbF1sw-CL9LEHkOdhDrA&oe=671D6FEC&_nc_sid=d885a2 750w,https://instagram.fbho3-2.fna.fbcdn.net/v/t51.29350-15/344255752_183809894595011_245967690214186054_n.webp?stp=dst-jpg_e35&efg=eyJ2ZW5jb2RlX3RhZyI6ImltYWdlX3VybGdlbi4xMDI0eDEwMjQuc2RyLmYyOTM1MC5kZWZhdWx0X2ltYWdlIn0&_nc_ht=instagram.fbho3-2.fna.fbcdn.net&_nc_cat=111&_nc_ohc=F_4dzH_cRj8Q7kNvgE4lje_&_nc_gid=e1977c1468494a27a43ad8a0c4f298b3&edm=ANTKIIoBAAAA&ccb=7-5&oh=00_AYCwCDo6sxm90vgqvK_7kxhlNaUrLi5e0eh2phU1K64BUQ&oe=671D6FEC&_nc_sid=d885a2 1080w',\n",
       "  'https://instagram.fbho3-1.fna.fbcdn.net/v/t51.29350-15/344463884_1488058825062098_3160409030860216808_n.webp?stp=dst-jpg_e35_s640x640_sh0.08&efg=eyJ2ZW5jb2RlX3RhZyI6ImltYWdlX3VybGdlbi4xMDI0eDEwMjQuc2RyLmYyOTM1MC5kZWZhdWx0X2ltYWdlIn0&_nc_ht=instagram.fbho3-1.fna.fbcdn.net&_nc_cat=102&_nc_ohc=Fmyk5dlNbY0Q7kNvgFuo_hu&_nc_gid=e1977c1468494a27a43ad8a0c4f298b3&edm=ANTKIIoBAAAA&ccb=7-5&oh=00_AYBwCzZwqYyrEHWiU26-OVpb1G19xPY9I3ds3B_r7xIbOA&oe=671D524D&_nc_sid=d885a2 640w,https://instagram.fbho3-1.fna.fbcdn.net/v/t51.29350-15/344463884_1488058825062098_3160409030860216808_n.webp?stp=dst-jpg_e35_s750x750_sh0.08&efg=eyJ2ZW5jb2RlX3RhZyI6ImltYWdlX3VybGdlbi4xMDI0eDEwMjQuc2RyLmYyOTM1MC5kZWZhdWx0X2ltYWdlIn0&_nc_ht=instagram.fbho3-1.fna.fbcdn.net&_nc_cat=102&_nc_ohc=Fmyk5dlNbY0Q7kNvgFuo_hu&_nc_gid=e1977c1468494a27a43ad8a0c4f298b3&edm=ANTKIIoBAAAA&ccb=7-5&oh=00_AYAwcRQHd-6lLIoaNDCPywgNbJVP--aMvs4Nk5dLmkW-xg&oe=671D524D&_nc_sid=d885a2 750w,https://instagram.fbho3-1.fna.fbcdn.net/v/t51.29350-15/344463884_1488058825062098_3160409030860216808_n.webp?stp=dst-jpg_e35&efg=eyJ2ZW5jb2RlX3RhZyI6ImltYWdlX3VybGdlbi4xMDI0eDEwMjQuc2RyLmYyOTM1MC5kZWZhdWx0X2ltYWdlIn0&_nc_ht=instagram.fbho3-1.fna.fbcdn.net&_nc_cat=102&_nc_ohc=Fmyk5dlNbY0Q7kNvgFuo_hu&_nc_gid=e1977c1468494a27a43ad8a0c4f298b3&edm=ANTKIIoBAAAA&ccb=7-5&oh=00_AYCNIYsve28YBsUaEivMrkSTN84tuRg1dm2slmclPq1nSg&oe=671D524D&_nc_sid=d885a2 1080w'],\n",
       " 'caption': 'tune_in_abhi\\nThe calmness of this cliff is a welcome escape from the chaos of everyday life 🌄🌄\\n76 w'}"
      ]
     },
     "execution_count": 182,
     "metadata": {},
     "output_type": "execute_result"
    }
   ],
   "source": [
    "data"
   ]
  },
  {
   "cell_type": "code",
   "execution_count": null,
   "metadata": {},
   "outputs": [],
   "source": []
  }
 ],
 "metadata": {
  "kernelspec": {
   "display_name": "Hackathon",
   "language": "python",
   "name": "python3"
  },
  "language_info": {
   "codemirror_mode": {
    "name": "ipython",
    "version": 3
   },
   "file_extension": ".py",
   "mimetype": "text/x-python",
   "name": "python",
   "nbconvert_exporter": "python",
   "pygments_lexer": "ipython3",
   "version": "3.10.15"
  }
 },
 "nbformat": 4,
 "nbformat_minor": 2
}
